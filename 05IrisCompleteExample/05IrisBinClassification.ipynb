{
 "cells": [
  {
   "cell_type": "markdown",
   "metadata": {},
   "source": [
    "# Aim\n",
    "\n",
    "- End to End example of classication problem with Iris dataset in sklearn"
   ]
  },
  {
   "cell_type": "markdown",
   "metadata": {},
   "source": [
    "## Get data"
   ]
  },
  {
   "cell_type": "code",
   "execution_count": 1,
   "metadata": {},
   "outputs": [],
   "source": [
    "from sklearn import datasets\n",
    "iris = datasets.load_iris()"
   ]
  },
  {
   "cell_type": "code",
   "execution_count": 2,
   "metadata": {},
   "outputs": [],
   "source": [
    "X = iris.data\n",
    "y = iris.target"
   ]
  },
  {
   "cell_type": "code",
   "execution_count": 3,
   "metadata": {},
   "outputs": [
    {
     "data": {
      "text/plain": [
       "(150, 4)"
      ]
     },
     "execution_count": 3,
     "metadata": {},
     "output_type": "execute_result"
    }
   ],
   "source": [
    "X.shape"
   ]
  },
  {
   "cell_type": "code",
   "execution_count": 4,
   "metadata": {},
   "outputs": [
    {
     "data": {
      "text/plain": [
       "(150,)"
      ]
     },
     "execution_count": 4,
     "metadata": {},
     "output_type": "execute_result"
    }
   ],
   "source": [
    "y.shape"
   ]
  },
  {
   "cell_type": "markdown",
   "metadata": {},
   "source": [
    "Check to see imbalance in dataset:"
   ]
  },
  {
   "cell_type": "code",
   "execution_count": 5,
   "metadata": {},
   "outputs": [
    {
     "data": {
      "text/plain": [
       "2    50\n",
       "1    50\n",
       "0    50\n",
       "Name: target, dtype: int64"
      ]
     },
     "execution_count": 5,
     "metadata": {},
     "output_type": "execute_result"
    }
   ],
   "source": [
    "import pandas as pd\n",
    "ypd = pd.DataFrame(y,columns=['target'])\n",
    "ypd['target'].value_counts()"
   ]
  },
  {
   "cell_type": "code",
   "execution_count": null,
   "metadata": {},
   "outputs": [],
   "source": []
  },
  {
   "cell_type": "markdown",
   "metadata": {},
   "source": [
    "#### drop one class so is binary classification task"
   ]
  },
  {
   "cell_type": "code",
   "execution_count": 6,
   "metadata": {},
   "outputs": [],
   "source": [
    "drop_ind = ypd[ypd.target !=2].index"
   ]
  },
  {
   "cell_type": "code",
   "execution_count": 7,
   "metadata": {},
   "outputs": [],
   "source": [
    "X = X[drop_ind]"
   ]
  },
  {
   "cell_type": "code",
   "execution_count": 8,
   "metadata": {},
   "outputs": [],
   "source": [
    "y = y[drop_ind]"
   ]
  },
  {
   "cell_type": "code",
   "execution_count": 9,
   "metadata": {},
   "outputs": [
    {
     "data": {
      "text/plain": [
       "(100,)"
      ]
     },
     "execution_count": 9,
     "metadata": {},
     "output_type": "execute_result"
    }
   ],
   "source": [
    "y.shape"
   ]
  },
  {
   "cell_type": "code",
   "execution_count": 10,
   "metadata": {},
   "outputs": [
    {
     "data": {
      "text/plain": [
       "(100, 4)"
      ]
     },
     "execution_count": 10,
     "metadata": {},
     "output_type": "execute_result"
    }
   ],
   "source": [
    "X.shape"
   ]
  },
  {
   "cell_type": "code",
   "execution_count": null,
   "metadata": {},
   "outputs": [],
   "source": []
  },
  {
   "cell_type": "code",
   "execution_count": 11,
   "metadata": {},
   "outputs": [
    {
     "data": {
      "text/plain": [
       "<matplotlib.axes._subplots.AxesSubplot at 0x1f78b858358>"
      ]
     },
     "execution_count": 11,
     "metadata": {},
     "output_type": "execute_result"
    }
   ],
   "source": [
    "pd.DataFrame(X).plot()"
   ]
  },
  {
   "cell_type": "markdown",
   "metadata": {},
   "source": [
    "## Make test train split\n",
    "\n",
    "I dont think that *train_test_split* is lookin to keep an even number distribution of classes in each set. But i guess normally your train/test split is large enough that you are likley to get a good representation of each class."
   ]
  },
  {
   "cell_type": "code",
   "execution_count": 12,
   "metadata": {},
   "outputs": [],
   "source": [
    "from sklearn.model_selection import train_test_split\n",
    "\n",
    "X_train, X_test, y_train, y_test = train_test_split(\n",
    "    X, y, test_size=0.33, random_state=38)\n"
   ]
  },
  {
   "cell_type": "code",
   "execution_count": 13,
   "metadata": {},
   "outputs": [
    {
     "data": {
      "text/plain": [
       "(67, 4)"
      ]
     },
     "execution_count": 13,
     "metadata": {},
     "output_type": "execute_result"
    }
   ],
   "source": [
    "X_train.shape"
   ]
  },
  {
   "cell_type": "code",
   "execution_count": 14,
   "metadata": {},
   "outputs": [
    {
     "data": {
      "text/plain": [
       "1    34\n",
       "0    33\n",
       "Name: target, dtype: int64"
      ]
     },
     "execution_count": 14,
     "metadata": {},
     "output_type": "execute_result"
    }
   ],
   "source": [
    "import pandas as pd\n",
    "pd.DataFrame(y_train,columns=['target'])['target'].value_counts()"
   ]
  },
  {
   "cell_type": "markdown",
   "metadata": {},
   "source": [
    "## Make basic reg model\n",
    "\n",
    "This model does not reuqire hyper-parameter tuning and so no CrossValidation is needed. We just fit to the training data and the model is ready for evaluation onthe test data."
   ]
  },
  {
   "cell_type": "code",
   "execution_count": 15,
   "metadata": {},
   "outputs": [],
   "source": [
    "from sklearn.linear_model import LogisticRegression"
   ]
  },
  {
   "cell_type": "code",
   "execution_count": 16,
   "metadata": {},
   "outputs": [],
   "source": [
    "lgr = LogisticRegression(C=10000) # high C value makes into normal logistic regression"
   ]
  },
  {
   "cell_type": "code",
   "execution_count": 17,
   "metadata": {},
   "outputs": [
    {
     "name": "stderr",
     "output_type": "stream",
     "text": [
      "C:\\Anaconda3\\lib\\site-packages\\sklearn\\linear_model\\logistic.py:432: FutureWarning: Default solver will be changed to 'lbfgs' in 0.22. Specify a solver to silence this warning.\n",
      "  FutureWarning)\n"
     ]
    }
   ],
   "source": [
    "clf1 = lgr.fit(X_train,y_train)"
   ]
  },
  {
   "cell_type": "code",
   "execution_count": 18,
   "metadata": {},
   "outputs": [
    {
     "data": {
      "text/plain": [
       "{'C': 10000,\n",
       " 'class_weight': None,\n",
       " 'dual': False,\n",
       " 'fit_intercept': True,\n",
       " 'intercept_scaling': 1,\n",
       " 'max_iter': 100,\n",
       " 'multi_class': 'warn',\n",
       " 'n_jobs': None,\n",
       " 'penalty': 'l2',\n",
       " 'random_state': None,\n",
       " 'solver': 'warn',\n",
       " 'tol': 0.0001,\n",
       " 'verbose': 0,\n",
       " 'warm_start': False}"
      ]
     },
     "execution_count": 18,
     "metadata": {},
     "output_type": "execute_result"
    }
   ],
   "source": [
    "clf1.get_params()"
   ]
  },
  {
   "cell_type": "code",
   "execution_count": 19,
   "metadata": {},
   "outputs": [
    {
     "data": {
      "text/plain": [
       "array([[-1.4802293 , -4.4498269 ,  7.2885779 ,  3.04144057]])"
      ]
     },
     "execution_count": 19,
     "metadata": {},
     "output_type": "execute_result"
    }
   ],
   "source": [
    "clf1.coef_"
   ]
  },
  {
   "cell_type": "markdown",
   "metadata": {},
   "source": [
    "### Model eval\n",
    "\n",
    "Using test data to eval model perf."
   ]
  },
  {
   "cell_type": "code",
   "execution_count": 20,
   "metadata": {},
   "outputs": [],
   "source": [
    "from sklearn.metrics import accuracy_score"
   ]
  },
  {
   "cell_type": "code",
   "execution_count": 21,
   "metadata": {},
   "outputs": [],
   "source": [
    "clf1_pred = clf1.predict(X_test)"
   ]
  },
  {
   "cell_type": "code",
   "execution_count": 22,
   "metadata": {},
   "outputs": [
    {
     "data": {
      "text/plain": [
       "1.0"
      ]
     },
     "execution_count": 22,
     "metadata": {},
     "output_type": "execute_result"
    }
   ],
   "source": [
    "accuracy_score(y_test, clf1_pred)"
   ]
  },
  {
   "cell_type": "markdown",
   "metadata": {},
   "source": [
    "#### Get precision/recal and ROC curves"
   ]
  },
  {
   "cell_type": "code",
   "execution_count": 24,
   "metadata": {},
   "outputs": [],
   "source": [
    "from sklearn.metrics import precision_recall_curve,roc_curve"
   ]
  },
  {
   "cell_type": "code",
   "execution_count": 25,
   "metadata": {},
   "outputs": [],
   "source": [
    "clf1_prob = clf1.predict_proba(X_test)[:,1] # why am i using this column? not the other? (other than has strange resuls in roc curves)"
   ]
  },
  {
   "cell_type": "code",
   "execution_count": 26,
   "metadata": {},
   "outputs": [
    {
     "name": "stdout",
     "output_type": "stream",
     "text": [
      "auc:  1.0\n"
     ]
    }
   ],
   "source": [
    "from sklearn.metrics import roc_auc_score\n",
    "print('auc: ', roc_auc_score(y_test, clf1_prob).round(2)) # NOTE: unsure if should be using prob for this?!"
   ]
  },
  {
   "cell_type": "code",
   "execution_count": 27,
   "metadata": {},
   "outputs": [],
   "source": [
    "precisions, recalls, thresholds = precision_recall_curve(y_test, clf1_prob)"
   ]
  },
  {
   "cell_type": "code",
   "execution_count": 28,
   "metadata": {},
   "outputs": [],
   "source": [
    "fpr,tpr,thresholds_ROC = roc_curve(y_test,clf1_prob)"
   ]
  },
  {
   "cell_type": "code",
   "execution_count": 29,
   "metadata": {},
   "outputs": [],
   "source": [
    "from matplotlib import pyplot as plt"
   ]
  },
  {
   "cell_type": "code",
   "execution_count": 30,
   "metadata": {},
   "outputs": [
    {
     "name": "stderr",
     "output_type": "stream",
     "text": [
      "No handles with labels found to put in legend.\n"
     ]
    },
    {
     "data": {
      "text/plain": [
       "Text(0,0.5,'T positve rate')"
      ]
     },
     "execution_count": 30,
     "metadata": {},
     "output_type": "execute_result"
    },
    {
     "data": {
      "image/png": "[encoded data removed]",
      "text/plain": [
       "<Figure size 648x288 with 2 Axes>"
      ]
     },
     "metadata": {
      "needs_background": "light"
     },
     "output_type": "display_data"
    }
   ],
   "source": [
    "#### create plot\n",
    "label = 'Test set evaluation'\n",
    "fig,ax = plt.subplots(1,2,figsize=(9,4))\n",
    "fig.suptitle(label)\n",
    "\n",
    "#def plot_precision_recall_vs_threshold(precisions, recalls,thresholds):\n",
    "# ax[0].plot(thresholds,precisions[:-1],'b--',label='Prec')\n",
    "# ax[0].plot(thresholds,recalls[:-1],'g-',label='Reca')\n",
    "# ax[0].set_xlabel('Threshold')\n",
    "# ax[0].set_ylabel('')\n",
    "# ax[0].legend(frameon=True,loc='center right')\n",
    "# ax[0].set_ylim([0,1])\n",
    "\n",
    "ax[0].plot(recalls[:-1],precisions[:-1],'g-') #,label='Reca')\n",
    "ax[0].set_ylabel('Precision')\n",
    "ax[0].set_xlabel('Recall')\n",
    "ax[0].legend(frameon=True,loc='center right')\n",
    "ax[0].set_ylim([0,1.1])\n",
    "\n",
    "ax[1].plot(fpr,tpr)\n",
    "ax[1].plot([0,1],[0,1],'k--')\n",
    "ax[1].set_xlabel('F positive rate')\n",
    "ax[1].set_ylabel('T positve rate')\n",
    "\n",
    "#print model perforamnce stats\n",
    "# y_pred = clf1.predict(X_test)\n",
    "# print('accuracy: ',accuracy_score(y_test,y_pred).round(2))\n",
    "# print('precision: ', precision_score(y_test,y_pred).round(2))\n",
    "# print('recall: ', recall_score(y_test,y_pred).round(2))\n"
   ]
  },
  {
   "cell_type": "code",
   "execution_count": 31,
   "metadata": {},
   "outputs": [],
   "source": [
    "def plot_model_perf(ydata,Xdata,model,label):\n",
    "    \"\"\"\n",
    "    plot:\n",
    "    recall, prec, vs. threshold\n",
    "    prec vs. recall\n",
    "    ROC\n",
    "    \"\"\"\n",
    "    #### get decision function\n",
    "    if hasattr(model, 'predict_proba'):\n",
    "        ydata_predDF = model.predict_proba(Xdata)[:,1]\n",
    "    else:\n",
    "        ydata_predDF = model.decision_function(Xdata)# warning, some model dont have DF\n",
    "        print('No predicit_proba, DF used instead')\n",
    "\n",
    "    #### get threshold + ROC curve data\n",
    "    precisions, recalls, thresholds = precision_recall_curve(ydata,ydata_predDF)\n",
    "    fpr,tpr,thresholds_ROC = roc_curve(ydata,ydata_predDF)\n",
    "\n",
    "    #### create plot\n",
    "    fig,ax = plt.subplots(1,3,figsize=(15,4))\n",
    "    fig.suptitle(label)\n",
    "\n",
    "    #def plot_precision_recall_vs_threshold(precisions, recalls,thresholds):\n",
    "    ax[0].plot(thresholds,precisions[:-1],'b--',label='Prec')\n",
    "    ax[0].plot(thresholds,recalls[:-1],'g-',label='Reca')\n",
    "    ax[0].set_xlabel('Threshold')\n",
    "    ax[0].set_ylabel('')\n",
    "    ax[0].legend(frameon=True,loc='center right')\n",
    "    ax[0].set_ylim([0,1])\n",
    "\n",
    "    ax[1].plot(recalls[:-1],precisions[:-1],'g-') #,label='Reca')\n",
    "    ax[1].set_ylabel('Precision')\n",
    "    ax[1].set_xlabel('Recall')\n",
    "    ax[1].legend(frameon=True,loc='center right')\n",
    "    ax[1].set_ylim([0,1])\n",
    "\n",
    "    ax[2].plot(fpr,tpr)\n",
    "    ax[2].plot([0,1],[0,1],'k--')\n",
    "    ax[2].set_xlabel('F positive rate')\n",
    "    ax[2].set_ylabel('T positve rate')\n",
    "\n",
    "    #print model perforamnce stats\n",
    "    y_pred = model.predict(Xdata)\n",
    "    print('accuracy: ',accuracy_score(ydata,y_pred).round(2))\n",
    "    print('precision: ', precision_score(ydata,y_pred).round(2))\n",
    "    print('recall: ', recall_score(ydata,y_pred).round(2))\n",
    "    from sklearn.metrics import roc_auc_score\n",
    "    print('auc: ', roc_auc_score(ydata, y_pred).round(2))\n",
    "\n",
    "    return\n"
   ]
  },
  {
   "cell_type": "code",
   "execution_count": null,
   "metadata": {},
   "outputs": [],
   "source": []
  },
  {
   "cell_type": "code",
   "execution_count": null,
   "metadata": {},
   "outputs": [],
   "source": []
  },
  {
   "cell_type": "markdown",
   "metadata": {},
   "source": [
    "## Make SVC with model selection"
   ]
  },
  {
   "cell_type": "code",
   "execution_count": 32,
   "metadata": {},
   "outputs": [
    {
     "data": {
      "text/plain": [
       "GridSearchCV(cv=5, error_score='raise-deprecating',\n",
       "       estimator=SVC(C=1.0, cache_size=200, class_weight=None, coef0=0.0,\n",
       "  decision_function_shape='ovr', degree=3, gamma='scale', kernel='rbf',\n",
       "  max_iter=-1, probability=False, random_state=None, shrinking=True,\n",
       "  tol=0.001, verbose=False),\n",
       "       fit_params=None, iid='warn', n_jobs=None,\n",
       "       param_grid={'kernel': ('linear', 'rbf'), 'C': [1, 10]},\n",
       "       pre_dispatch='2*n_jobs', refit=True, return_train_score='warn',\n",
       "       scoring='f1', verbose=0)"
      ]
     },
     "execution_count": 32,
     "metadata": {},
     "output_type": "execute_result"
    }
   ],
   "source": [
    "from sklearn import svm\n",
    "from sklearn.model_selection import GridSearchCV\n",
    "parameters = {'kernel':('linear', 'rbf'), 'C':[1, 10]}\n",
    "svc = svm.SVC(gamma=\"scale\")\n",
    "clf2 = GridSearchCV(svc, parameters, cv=5, scoring='f1')\n",
    "clf2.fit(X_train, y_train)"
   ]
  },
  {
   "cell_type": "code",
   "execution_count": 35,
   "metadata": {},
   "outputs": [],
   "source": [
    "clf2_pred = clf2.predict(X_test)"
   ]
  },
  {
   "cell_type": "code",
   "execution_count": 36,
   "metadata": {},
   "outputs": [
    {
     "data": {
      "text/plain": [
       "1.0"
      ]
     },
     "execution_count": 36,
     "metadata": {},
     "output_type": "execute_result"
    }
   ],
   "source": [
    "accuracy_score(y_test, clf2_pred)"
   ]
  },
  {
   "cell_type": "code",
   "execution_count": 38,
   "metadata": {},
   "outputs": [
    {
     "data": {
      "text/plain": [
       "{'mean_fit_time': array([0.00079751, 0.00059929, 0.00059929, 0.00080023]),\n",
       " 'mean_score_time': array([0.00059857, 0.00079756, 0.00039892, 0.00081172]),\n",
       " 'mean_test_score': array([1., 1., 1., 1.]),\n",
       " 'mean_train_score': array([1., 1., 1., 1.]),\n",
       " 'param_C': masked_array(data=[1, 1, 10, 10],\n",
       "              mask=[False, False, False, False],\n",
       "        fill_value='?',\n",
       "             dtype=object),\n",
       " 'param_kernel': masked_array(data=['linear', 'rbf', 'linear', 'rbf'],\n",
       "              mask=[False, False, False, False],\n",
       "        fill_value='?',\n",
       "             dtype=object),\n",
       " 'params': [{'C': 1, 'kernel': 'linear'},\n",
       "  {'C': 1, 'kernel': 'rbf'},\n",
       "  {'C': 10, 'kernel': 'linear'},\n",
       "  {'C': 10, 'kernel': 'rbf'}],\n",
       " 'rank_test_score': array([1, 1, 1, 1]),\n",
       " 'split0_test_score': array([1., 1., 1., 1.]),\n",
       " 'split0_train_score': array([1., 1., 1., 1.]),\n",
       " 'split1_test_score': array([1., 1., 1., 1.]),\n",
       " 'split1_train_score': array([1., 1., 1., 1.]),\n",
       " 'split2_test_score': array([1., 1., 1., 1.]),\n",
       " 'split2_train_score': array([1., 1., 1., 1.]),\n",
       " 'split3_test_score': array([1., 1., 1., 1.]),\n",
       " 'split3_train_score': array([1., 1., 1., 1.]),\n",
       " 'split4_test_score': array([1., 1., 1., 1.]),\n",
       " 'split4_train_score': array([1., 1., 1., 1.]),\n",
       " 'std_fit_time': array([0.00039876, 0.00048932, 0.00048932, 0.00040015]),\n",
       " 'std_score_time': array([0.00048873, 0.00039878, 0.00048858, 0.00040644]),\n",
       " 'std_test_score': array([0., 0., 0., 0.]),\n",
       " 'std_train_score': array([0., 0., 0., 0.])}"
      ]
     },
     "execution_count": 38,
     "metadata": {},
     "output_type": "execute_result"
    }
   ],
   "source": [
    "clf2.cv_results_"
   ]
  },
  {
   "cell_type": "code",
   "execution_count": null,
   "metadata": {},
   "outputs": [],
   "source": []
  },
  {
   "cell_type": "markdown",
   "metadata": {},
   "source": [
    "# Conclusion\n",
    "\n",
    "- Iris data set (with only two classes) can produce perfect classifiers? It is therefore linearly seperable?"
   ]
  },
  {
   "cell_type": "code",
   "execution_count": 39,
   "metadata": {},
   "outputs": [],
   "source": [
    "import seaborn as sns\n",
    "sns.set()"
   ]
  },
  {
   "cell_type": "code",
   "execution_count": 40,
   "metadata": {},
   "outputs": [],
   "source": [
    "xpd = pd.DataFrame(X)"
   ]
  },
  {
   "cell_type": "code",
   "execution_count": 41,
   "metadata": {},
   "outputs": [],
   "source": [
    "xpd = xpd.merge(ypd,right_index=True,left_index=True)"
   ]
  },
  {
   "cell_type": "code",
   "execution_count": 42,
   "metadata": {},
   "outputs": [
    {
     "data": {
      "text/plain": [
       "<matplotlib.axes._subplots.AxesSubplot at 0x1f78d24b860>"
      ]
     },
     "execution_count": 42,
     "metadata": {},
     "output_type": "execute_result"
    },
    {
     "data": {
      "image/png": "[encoded data removed]",
      "text/plain": [
       "<Figure size 576x396 with 2 Axes>"
      ]
     },
     "metadata": {},
     "output_type": "display_data"
    }
   ],
   "source": [
    "xpd.plot.scatter(0,1,10,'target')"
   ]
  },
  {
   "cell_type": "code",
   "execution_count": null,
   "metadata": {},
   "outputs": [],
   "source": []
  }
 ],
 "metadata": {
  "kernelspec": {
   "display_name": "Python [default]",
   "language": "python",
   "name": "python3"
  },
  "language_info": {
   "codemirror_mode": {
    "name": "ipython",
    "version": 3
   },
   "file_extension": ".py",
   "mimetype": "text/x-python",
   "name": "python",
   "nbconvert_exporter": "python",
   "pygments_lexer": "ipython3",
   "version": "3.5.5"
  }
 },
 "nbformat": 4,
 "nbformat_minor": 2
}
