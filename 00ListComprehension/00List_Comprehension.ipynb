{
 "cells": [
  {
   "cell_type": "markdown",
   "metadata": {},
   "source": [
    "# Data Camp tutorial - badly written examples IMO"
   ]
  },
  {
   "cell_type": "markdown",
   "metadata": {},
   "source": [
    "https://www.datacamp.com/community/tutorials/python-list-comprehension"
   ]
  },
  {
   "cell_type": "markdown",
   "metadata": {},
   "source": [
    "Lists, strings, tuples, sets are all examples of \"sequence types\"...they can all be iterated."
   ]
  },
  {
   "cell_type": "code",
   "execution_count": 7,
   "metadata": {},
   "outputs": [],
   "source": [
    "S = [x**2 for x in [0,1,2,3,4]]"
   ]
  },
  {
   "cell_type": "code",
   "execution_count": 16,
   "metadata": {},
   "outputs": [
    {
     "data": {
      "text/plain": [
       "[0, 1, 4, 9, 16, 25, 36, 49, 64, 81]"
      ]
     },
     "execution_count": 16,
     "metadata": {},
     "output_type": "execute_result"
    }
   ],
   "source": [
    "S = [x**2 for x in range(10)]\n",
    "\n",
    "S"
   ]
  },
  {
   "cell_type": "code",
   "execution_count": 17,
   "metadata": {},
   "outputs": [
    {
     "data": {
      "text/plain": [
       "[1, 2, 4, 8, 16, 32, 64, 128, 256, 512]"
      ]
     },
     "execution_count": 17,
     "metadata": {},
     "output_type": "execute_result"
    }
   ],
   "source": [
    "V = [2**i for i in range(10)]\n",
    "V"
   ]
  },
  {
   "cell_type": "code",
   "execution_count": 12,
   "metadata": {},
   "outputs": [],
   "source": [
    "M = [x for x in S if x % 2 == 0]\n",
    "\n",
    "M"
   ]
  },
  {
   "cell_type": "code",
   "execution_count": null,
   "metadata": {},
   "outputs": [],
   "source": []
  },
  {
   "cell_type": "code",
   "execution_count": 20,
   "metadata": {},
   "outputs": [
    {
     "data": {
      "text/plain": [
       "[0, 1, 4, 9, 16, 25, 36, 49, 64, 81]"
      ]
     },
     "execution_count": 20,
     "metadata": {},
     "output_type": "execute_result"
    }
   ],
   "source": [
    "X = []\n",
    "for x in range(10):\n",
    "    X.append(x**2)\n",
    "    \n",
    "X"
   ]
  },
  {
   "cell_type": "code",
   "execution_count": null,
   "metadata": {},
   "outputs": [],
   "source": []
  },
  {
   "cell_type": "code",
   "execution_count": 22,
   "metadata": {},
   "outputs": [
    {
     "data": {
      "text/plain": [
       "[0, 1, 8, 27, 64, 125, 216, 343, 512, 729, 1000]"
      ]
     },
     "execution_count": 22,
     "metadata": {},
     "output_type": "execute_result"
    }
   ],
   "source": [
    "Q = [x**3 for x in range(11)]\n",
    "Q"
   ]
  },
  {
   "cell_type": "markdown",
   "metadata": {},
   "source": [
    "List comprehension is an alternative to:\n",
    "- for loops\n",
    "- lambda functions\n",
    "- map()\n",
    "- filter()\n",
    "- reduce()"
   ]
  },
  {
   "cell_type": "markdown",
   "metadata": {},
   "source": [
    "## Replacing for loops\n",
    "\n",
    "- list comprehensions are generally quicker"
   ]
  },
  {
   "cell_type": "code",
   "execution_count": 23,
   "metadata": {},
   "outputs": [
    {
     "name": "stdout",
     "output_type": "stream",
     "text": [
      "[0, 4, 16, 36, 64]\n"
     ]
    }
   ],
   "source": [
    "numbers= range(10)\n",
    "new_list = []\n",
    "\n",
    "for n in numbers:\n",
    "    if n%2 == 0:\n",
    "        new_list.append(n**2)\n",
    "        \n",
    "print(new_list)"
   ]
  },
  {
   "cell_type": "code",
   "execution_count": 26,
   "metadata": {},
   "outputs": [
    {
     "data": {
      "text/plain": [
       "[0, 4, 16, 36, 64]"
      ]
     },
     "execution_count": 26,
     "metadata": {},
     "output_type": "execute_result"
    }
   ],
   "source": [
    "%timeit\n",
    "\n",
    "new_list = [n**2 for n in range(10) if n%2 == 0]\n",
    "new_list"
   ]
  },
  {
   "cell_type": "code",
   "execution_count": null,
   "metadata": {},
   "outputs": [],
   "source": []
  },
  {
   "cell_type": "markdown",
   "metadata": {},
   "source": [
    "## replacing Lambda func and map"
   ]
  },
  {
   "cell_type": "code",
   "execution_count": 27,
   "metadata": {},
   "outputs": [],
   "source": [
    "kilometer = [39.2, 36.5, 37.3, 37.8]"
   ]
  },
  {
   "cell_type": "code",
   "execution_count": 28,
   "metadata": {},
   "outputs": [],
   "source": [
    "feet = map(lambda x: float(3280.8399)*x, kilometer)"
   ]
  },
  {
   "cell_type": "code",
   "execution_count": 30,
   "metadata": {},
   "outputs": [
    {
     "name": "stdout",
     "output_type": "stream",
     "text": [
      "[128608.92408000001, 119750.65635, 122375.32826999998, 124015.74822]\n"
     ]
    }
   ],
   "source": [
    "print(list(feet))"
   ]
  },
  {
   "cell_type": "code",
   "execution_count": null,
   "metadata": {},
   "outputs": [],
   "source": []
  },
  {
   "cell_type": "code",
   "execution_count": 33,
   "metadata": {},
   "outputs": [
    {
     "data": {
      "text/plain": [
       "[128608.92408000001, 119750.65635, 122375.32826999998, 124015.74822]"
      ]
     },
     "execution_count": 33,
     "metadata": {},
     "output_type": "execute_result"
    }
   ],
   "source": [
    "feet = [x*float(3280.8399) for x in kilometer]\n",
    "feet"
   ]
  },
  {
   "cell_type": "code",
   "execution_count": 35,
   "metadata": {},
   "outputs": [
    {
     "ename": "TypeError",
     "evalue": "int() argument must be a string, a bytes-like object or a number, not 'list'",
     "output_type": "error",
     "traceback": [
      "\u001b[1;31m---------------------------------------------------------------------------\u001b[0m",
      "\u001b[1;31mTypeError\u001b[0m                                 Traceback (most recent call last)",
      "\u001b[1;32m<ipython-input-35-82223eda0cb4>\u001b[0m in \u001b[0;36m<module>\u001b[1;34m()\u001b[0m\n\u001b[1;32m----> 1\u001b[1;33m \u001b[0mint\u001b[0m\u001b[1;33m(\u001b[0m\u001b[0mfeet\u001b[0m\u001b[1;33m)\u001b[0m\u001b[1;33m\u001b[0m\u001b[0m\n\u001b[0m",
      "\u001b[1;31mTypeError\u001b[0m: int() argument must be a string, a bytes-like object or a number, not 'list'"
     ]
    }
   ],
   "source": [
    "int(feet)"
   ]
  },
  {
   "cell_type": "code",
   "execution_count": 36,
   "metadata": {},
   "outputs": [
    {
     "data": {
      "text/plain": [
       "494750.65692000004"
      ]
     },
     "execution_count": 36,
     "metadata": {},
     "output_type": "execute_result"
    }
   ],
   "source": [
    "sum(feet)"
   ]
  },
  {
   "cell_type": "code",
   "execution_count": null,
   "metadata": {},
   "outputs": [],
   "source": []
  },
  {
   "cell_type": "markdown",
   "metadata": {},
   "source": [
    "## Can place multiple if conditions"
   ]
  },
  {
   "cell_type": "code",
   "execution_count": 53,
   "metadata": {},
   "outputs": [
    {
     "data": {
      "text/plain": [
       "[16, 36]"
      ]
     },
     "execution_count": 53,
     "metadata": {},
     "output_type": "execute_result"
    }
   ],
   "source": [
    "%timeit\n",
    "\n",
    "new_list = [n**2 for n in range(10) if n%2 == 0 if n**2 <= 50 if n**2 > 4]\n",
    "new_list"
   ]
  },
  {
   "cell_type": "markdown",
   "metadata": {},
   "source": [
    "## if else statements"
   ]
  },
  {
   "cell_type": "code",
   "execution_count": null,
   "metadata": {},
   "outputs": [],
   "source": []
  },
  {
   "cell_type": "markdown",
   "metadata": {},
   "source": [
    "# Cheap intro to comprehension\n",
    "\n",
    "https://medium.com/the-andela-way/a-cheap-introduction-to-comprehension-in-python-2269895f996f"
   ]
  },
  {
   "cell_type": "code",
   "execution_count": null,
   "metadata": {},
   "outputs": [],
   "source": []
  },
  {
   "cell_type": "markdown",
   "metadata": {},
   "source": [
    "new_list = [expression **for** each_item **in** existing_data_structure]. "
   ]
  },
  {
   "cell_type": "markdown",
   "metadata": {},
   "source": [
    "###  lists comprehnesion"
   ]
  },
  {
   "cell_type": "code",
   "execution_count": 54,
   "metadata": {},
   "outputs": [
    {
     "name": "stdout",
     "output_type": "stream",
     "text": [
      "['A', 'B', 'C', 'D', 'E', 'F']\n"
     ]
    }
   ],
   "source": [
    "letters = ['a','b','c','d','e','f']\n",
    "\n",
    "capital_letters = []\n",
    "\n",
    "for each_letter in letters:\n",
    "    capital_letters.append(each_letter.upper())\n",
    "    \n",
    "print(capital_letters)"
   ]
  },
  {
   "cell_type": "markdown",
   "metadata": {},
   "source": [
    "faster and less code..."
   ]
  },
  {
   "cell_type": "code",
   "execution_count": 55,
   "metadata": {},
   "outputs": [
    {
     "data": {
      "text/plain": [
       "['A', 'B', 'C', 'D', 'E', 'F']"
      ]
     },
     "execution_count": 55,
     "metadata": {},
     "output_type": "execute_result"
    }
   ],
   "source": [
    "capital_letters = [each_letter.upper() for each_letter in letters]\n",
    "capital_letters"
   ]
  },
  {
   "cell_type": "markdown",
   "metadata": {},
   "source": [
    "below is even faster.."
   ]
  },
  {
   "cell_type": "code",
   "execution_count": 56,
   "metadata": {},
   "outputs": [
    {
     "data": {
      "text/plain": [
       "['A', 'B', 'C', 'D', 'E', 'F']"
      ]
     },
     "execution_count": 56,
     "metadata": {},
     "output_type": "execute_result"
    }
   ],
   "source": [
    "capital_letters = list(\"\".join(letters).upper())\n",
    "capital_letters"
   ]
  },
  {
   "cell_type": "code",
   "execution_count": null,
   "metadata": {},
   "outputs": [],
   "source": []
  },
  {
   "cell_type": "markdown",
   "metadata": {},
   "source": [
    "# dictionary comprehension"
   ]
  },
  {
   "cell_type": "code",
   "execution_count": 58,
   "metadata": {},
   "outputs": [
    {
     "data": {
      "text/plain": [
       "['daniel', 'dennis', 'david']"
      ]
     },
     "execution_count": 58,
     "metadata": {},
     "output_type": "execute_result"
    }
   ],
   "source": [
    "students = {\"dennis\":23,'david':21,'mary':9,'daniel':25}\n",
    "\n",
    "voting_students = []\n",
    "\n",
    "for key,value in students.items(): # note use items to get keys and values\n",
    "    if value >= 18:\n",
    "        voting_students.append(key)\n",
    "        \n",
    "voting_students"
   ]
  },
  {
   "cell_type": "code",
   "execution_count": 63,
   "metadata": {},
   "outputs": [
    {
     "data": {
      "text/plain": [
       "['daniel', 'dennis', 'david']"
      ]
     },
     "execution_count": 63,
     "metadata": {},
     "output_type": "execute_result"
    }
   ],
   "source": [
    "students = {\"dennis\":23,'david':21,'mary':9,'daniel':25}\n",
    "\n",
    "voting_students = []\n",
    "\n",
    "for entry in students: # note use items to get keys and values\n",
    "    if students[entry] >= 18:\n",
    "        voting_students.append(entry)\n",
    "        \n",
    "voting_students"
   ]
  },
  {
   "cell_type": "code",
   "execution_count": null,
   "metadata": {},
   "outputs": [],
   "source": []
  },
  {
   "cell_type": "code",
   "execution_count": 65,
   "metadata": {},
   "outputs": [
    {
     "data": {
      "text/plain": [
       "['daniel', 'dennis', 'david']"
      ]
     },
     "execution_count": 65,
     "metadata": {},
     "output_type": "execute_result"
    }
   ],
   "source": [
    "voting_students = [key for key, value in students.items() if value >= 18]\n",
    "voting_students"
   ]
  },
  {
   "cell_type": "code",
   "execution_count": null,
   "metadata": {},
   "outputs": [],
   "source": []
  },
  {
   "cell_type": "code",
   "execution_count": 68,
   "metadata": {},
   "outputs": [
    {
     "data": {
      "text/plain": [
       "[['daniel', 25], ['dennis', 23], ['david', 21]]"
      ]
     },
     "execution_count": 68,
     "metadata": {},
     "output_type": "execute_result"
    }
   ],
   "source": [
    "voting_students = [[key,value] for key, value in students.items() if value >= 18]\n",
    "voting_students"
   ]
  },
  {
   "cell_type": "code",
   "execution_count": null,
   "metadata": {},
   "outputs": [],
   "source": []
  },
  {
   "cell_type": "markdown",
   "metadata": {},
   "source": [
    "## comphrehension"
   ]
  },
  {
   "cell_type": "markdown",
   "metadata": {},
   "source": [
    "{ expression **for** each_item **in** existing_data_structure }"
   ]
  },
  {
   "cell_type": "code",
   "execution_count": 73,
   "metadata": {},
   "outputs": [
    {
     "data": {
      "text/plain": [
       "{'Dreams', 'King', 'Men', 'Queen'}"
      ]
     },
     "execution_count": 73,
     "metadata": {},
     "output_type": "execute_result"
    }
   ],
   "source": [
    "words = set([\"KING\", \"QUEEN\", \"MEN\", \"DREAMS\", \"MEN\",\"king\"])\n",
    "\n",
    "capital_words = set()\n",
    "\n",
    "for each_word in words:\n",
    "    capital_words.add(each_word.title())\n",
    "    \n",
    "capital_words"
   ]
  },
  {
   "cell_type": "code",
   "execution_count": 74,
   "metadata": {},
   "outputs": [
    {
     "data": {
      "text/plain": [
       "{'Dreams', 'King', 'Men', 'Queen'}"
      ]
     },
     "execution_count": 74,
     "metadata": {},
     "output_type": "execute_result"
    }
   ],
   "source": [
    "capital_words = {each_word.title() for each_word in words}\n",
    "capital_words"
   ]
  },
  {
   "cell_type": "code",
   "execution_count": 69,
   "metadata": {},
   "outputs": [
    {
     "data": {
      "text/plain": [
       "'King'"
      ]
     },
     "execution_count": 69,
     "metadata": {},
     "output_type": "execute_result"
    }
   ],
   "source": [
    "'king'.title()"
   ]
  },
  {
   "cell_type": "code",
   "execution_count": 70,
   "metadata": {},
   "outputs": [
    {
     "data": {
      "text/plain": [
       "'KING'"
      ]
     },
     "execution_count": 70,
     "metadata": {},
     "output_type": "execute_result"
    }
   ],
   "source": [
    "'king'.upper()"
   ]
  },
  {
   "cell_type": "markdown",
   "metadata": {},
   "source": [
    "#### example 2: with filter"
   ]
  },
  {
   "cell_type": "code",
   "execution_count": 75,
   "metadata": {},
   "outputs": [
    {
     "data": {
      "text/plain": [
       "{2, 12, 24}"
      ]
     },
     "execution_count": 75,
     "metadata": {},
     "output_type": "execute_result"
    }
   ],
   "source": [
    "numbers = [1, 24, 35, 12, 67, 2, 24, 81, 2, 45, 89, 12]\n",
    "\n",
    "even_numbers = set()\n",
    "\n",
    "for number in numbers:\n",
    "    if number % 2 == 0:\n",
    "        even_numbers.add(number)\n",
    "        \n",
    "even_numbers"
   ]
  },
  {
   "cell_type": "code",
   "execution_count": null,
   "metadata": {},
   "outputs": [],
   "source": []
  },
  {
   "cell_type": "code",
   "execution_count": 78,
   "metadata": {},
   "outputs": [
    {
     "data": {
      "text/plain": [
       "{2, 12, 24}"
      ]
     },
     "execution_count": 78,
     "metadata": {},
     "output_type": "execute_result"
    }
   ],
   "source": [
    "even_numbers = {number for number in numbers if number % 2 == 0}\n",
    "even_numbers"
   ]
  },
  {
   "cell_type": "code",
   "execution_count": null,
   "metadata": {},
   "outputs": [],
   "source": []
  },
  {
   "cell_type": "markdown",
   "metadata": {},
   "source": [
    "## Dict comprehension "
   ]
  },
  {
   "cell_type": "markdown",
   "metadata": {},
   "source": [
    "{ key:value **for** key,value **in** existing_data_structure }\n",
    "\n",
    "- must use : at start, this is the difference between set  and dict comprehension"
   ]
  },
  {
   "cell_type": "code",
   "execution_count": 84,
   "metadata": {},
   "outputs": [
    {
     "data": {
      "text/plain": [
       "{'DANIEL': 25,\n",
       " 'DARIUS': 17,\n",
       " 'DAVID': 21,\n",
       " 'DENNIS': 23,\n",
       " 'JIM': 10,\n",
       " 'MARVIN': 8,\n",
       " 'MARY': 9}"
      ]
     },
     "execution_count": 84,
     "metadata": {},
     "output_type": "execute_result"
    }
   ],
   "source": [
    "students = {\"dennis\": 23, \"david\": 21, \"mary\": 9, \"daniel\": 25, \"darius\": 17, \"jim\": 10, \"marvin\": 8}\n",
    "\n",
    "upper_case_names = {}\n",
    "\n",
    "for key, value in students.items():\n",
    "    upper_case_names[key.upper()] = value\n",
    "    \n",
    "upper_case_names"
   ]
  },
  {
   "cell_type": "code",
   "execution_count": 86,
   "metadata": {},
   "outputs": [
    {
     "data": {
      "text/plain": [
       "{'DANIEL': 25,\n",
       " 'DARIUS': 17,\n",
       " 'DAVID': 21,\n",
       " 'DENNIS': 23,\n",
       " 'JIM': 10,\n",
       " 'MARVIN': 8,\n",
       " 'MARY': 9}"
      ]
     },
     "execution_count": 86,
     "metadata": {},
     "output_type": "execute_result"
    }
   ],
   "source": [
    "upper_case_names = {key.upper():value for key,value in students.items()}\n",
    "upper_case_names"
   ]
  },
  {
   "cell_type": "markdown",
   "metadata": {},
   "source": [
    "# Nesting comrehensions"
   ]
  },
  {
   "cell_type": "code",
   "execution_count": 88,
   "metadata": {},
   "outputs": [
    {
     "data": {
      "text/plain": [
       "{'david': 12, 'joseph': 13}"
      ]
     },
     "execution_count": 88,
     "metadata": {},
     "output_type": "execute_result"
    }
   ],
   "source": [
    "scores = [[\"dennis\", 10], [\"david\", 12], [\"joseph\", 13]]\n",
    "\n",
    "scores_dict = {}\n",
    "\n",
    "for each_score in scores:\n",
    "    name, score = each_score\n",
    "    \n",
    "    if score > 10:\n",
    "        scores_dict[name] = score\n",
    "        \n",
    "scores_dict"
   ]
  },
  {
   "cell_type": "code",
   "execution_count": 99,
   "metadata": {},
   "outputs": [
    {
     "data": {
      "text/plain": [
       "{'david': 12, 'joseph': 13}"
      ]
     },
     "execution_count": 99,
     "metadata": {},
     "output_type": "execute_result"
    }
   ],
   "source": [
    "scores_dict = {name:score for name,score in [each_score for each_score in scores if each_score[1] > 10]}\n",
    "scores_dict"
   ]
  },
  {
   "cell_type": "markdown",
   "metadata": {},
   "source": [
    "We have a list comprehension inside a dictionary comprehension. The list comprehension is used to generate new list of students whose score is greater than 10. This list is used by the dictionary comprehension to generate the required dictionary. Hence comprehension can be nested."
   ]
  },
  {
   "cell_type": "code",
   "execution_count": null,
   "metadata": {},
   "outputs": [],
   "source": []
  },
  {
   "cell_type": "markdown",
   "metadata": {},
   "source": [
    "## Simple challenge\n",
    "\n",
    "Load data from meals.txt as dict. Reform into format:\n",
    "\n",
    "{\n",
    " 'Beef': ['08:30 AM', '03:00 PM'],\n",
    " 'Chapats': ['06:00 PM', '01:00 PM'],\n",
    " 'Chips': ['06:30 PM', '08:50 AM'],\n",
    " 'Coffee': ['08:30 PM', '03:30 PM', '07:00 AM'],\n",
    " 'Pizza': ['01:10 PM', '08:45 PM', '05:00 PM'],\n",
    " 'Rice': ['02:00 PM', '04:30 PM', '09:00 AM']\n",
    "}"
   ]
  },
  {
   "cell_type": "code",
   "execution_count": 108,
   "metadata": {},
   "outputs": [
    {
     "data": {
      "text/plain": [
       "{'13:00': 'Chapats',\n",
       " '13:10': 'Pizza',\n",
       " '14:00': 'Rice',\n",
       " '15:00': 'Beef',\n",
       " '15:30': 'Coffee',\n",
       " '16:30': 'Rice',\n",
       " '17:00': 'Pizza',\n",
       " '18:00': 'Chapats',\n",
       " '18:30': 'Chips',\n",
       " '20:30': 'Coffee',\n",
       " '20:45': 'Pizza',\n",
       " '7:00': 'Coffee',\n",
       " '8:30': 'Beef',\n",
       " '8:50': 'Chips',\n",
       " '9:00': 'Rice'}"
      ]
     },
     "execution_count": 108,
     "metadata": {},
     "output_type": "execute_result"
    }
   ],
   "source": [
    "\n",
    "\n",
    "meals_dict = {}\n",
    "\n",
    "# open file\n",
    "with open(\"meals.txt\") as meals:\n",
    "    first_line = meals.readline()\n",
    "    \n",
    "    for each_line in meals:\n",
    "        time, meal = each_line.strip().split(\",\",1)\n",
    "        meals_dict[time] = meal.title()\n",
    "    \n",
    "meals_dict"
   ]
  },
  {
   "cell_type": "code",
   "execution_count": 115,
   "metadata": {},
   "outputs": [
    {
     "data": {
      "text/plain": [
       "{'Beef': ['15:00', '8:30'],\n",
       " 'Chapats': ['13:00', '18:00'],\n",
       " 'Chips': ['18:30', '8:50'],\n",
       " 'Coffee': ['20:30', '15:30', '7:00'],\n",
       " 'Pizza': ['17:00', '20:45', '13:10'],\n",
       " 'Rice': ['16:30', '9:00', '14:00']}"
      ]
     },
     "execution_count": 115,
     "metadata": {},
     "output_type": "execute_result"
    }
   ],
   "source": [
    "new_meals_format = {}\n",
    "\n",
    "for key, value in meals_dict.items():\n",
    "    \n",
    "    if value in new_meals_format.keys():\n",
    "        new_meals_format[value].append(key)\n",
    "        \n",
    "    else:\n",
    "        new_meals_format[value] = [key]\n",
    "    \n",
    "new_meals_format\n"
   ]
  },
  {
   "cell_type": "markdown",
   "metadata": {},
   "source": [
    "And with list comp:\n",
    "\n"
   ]
  },
  {
   "cell_type": "code",
   "execution_count": 126,
   "metadata": {},
   "outputs": [
    {
     "data": {
      "text/plain": [
       "{'Beef': ['15:00', '8:30'],\n",
       " 'Chapats': ['13:00', '18:00'],\n",
       " 'Chips': ['18:30', '8:50'],\n",
       " 'Coffee': ['20:30', '15:30', '7:00'],\n",
       " 'Pizza': ['17:00', '20:45', '13:10'],\n",
       " 'Rice': ['16:30', '9:00', '14:00']}"
      ]
     },
     "execution_count": 126,
     "metadata": {},
     "output_type": "execute_result"
    }
   ],
   "source": [
    "meals_dict = {}\n",
    "\n",
    "# open file\n",
    "with open(\"meals.txt\") as meals:\n",
    "    first_line = meals.readline()\n",
    "    \n",
    "    meals_dict = {time:meal.title() for time, meal in [each_line.strip().split(\",\",1)for each_line in meals]}\n",
    "\n",
    "#     print(meals_dict)\n",
    "    \n",
    "    new_meals_dict = {value.title():[key] for key, value in meals_dict.items() }\n",
    "    \n",
    "#     print(new_meals_format)\n",
    "    \n",
    "new_meals_format"
   ]
  },
  {
   "cell_type": "markdown",
   "metadata": {},
   "source": [
    "NOTE: i have no idea why you dont need an if statement in the comprehension case."
   ]
  },
  {
   "cell_type": "code",
   "execution_count": null,
   "metadata": {},
   "outputs": [],
   "source": []
  },
  {
   "cell_type": "code",
   "execution_count": null,
   "metadata": {},
   "outputs": [],
   "source": []
  },
  {
   "cell_type": "code",
   "execution_count": null,
   "metadata": {},
   "outputs": [],
   "source": []
  },
  {
   "cell_type": "code",
   "execution_count": null,
   "metadata": {},
   "outputs": [],
   "source": []
  },
  {
   "cell_type": "code",
   "execution_count": null,
   "metadata": {},
   "outputs": [],
   "source": []
  },
  {
   "cell_type": "code",
   "execution_count": null,
   "metadata": {},
   "outputs": [],
   "source": []
  }
 ],
 "metadata": {
  "kernelspec": {
   "display_name": "Python [default]",
   "language": "python",
   "name": "python3"
  },
  "language_info": {
   "codemirror_mode": {
    "name": "ipython",
    "version": 3
   },
   "file_extension": ".py",
   "mimetype": "text/x-python",
   "name": "python",
   "nbconvert_exporter": "python",
   "pygments_lexer": "ipython3",
   "version": "3.5.3"
  }
 },
 "nbformat": 4,
 "nbformat_minor": 2
}
